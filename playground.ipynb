{
 "cells": [
  {
   "cell_type": "code",
   "execution_count": 1,
   "metadata": {},
   "outputs": [],
   "source": [
    "import BBS\n",
    "from random import randint"
   ]
  },
  {
   "cell_type": "code",
   "execution_count": 2,
   "metadata": {},
   "outputs": [
    {
     "ename": "TypeError",
     "evalue": "User.__init__() takes from 1 to 2 positional arguments but 3 were given",
     "output_type": "error",
     "traceback": [
      "\u001b[1;31m---------------------------------------------------------------------------\u001b[0m",
      "\u001b[1;31mTypeError\u001b[0m                                 Traceback (most recent call last)",
      "Cell \u001b[1;32mIn[2], line 5\u001b[0m\n\u001b[0;32m      3\u001b[0m gm \u001b[38;5;241m=\u001b[39m BBS\u001b[38;5;241m.\u001b[39mGM(params\u001b[38;5;241m=\u001b[39mparams)\n\u001b[0;32m      4\u001b[0m msgs \u001b[38;5;241m=\u001b[39m [randint(\u001b[38;5;241m0\u001b[39m,\u001b[38;5;241m10000\u001b[39m) \u001b[38;5;28;01mfor\u001b[39;00m _ \u001b[38;5;129;01min\u001b[39;00m \u001b[38;5;28mrange\u001b[39m(num_messages)]\n\u001b[1;32m----> 5\u001b[0m user \u001b[38;5;241m=\u001b[39m \u001b[43mBBS\u001b[49m\u001b[38;5;241;43m.\u001b[39;49m\u001b[43mUser\u001b[49m\u001b[43m(\u001b[49m\u001b[43mgm\u001b[49m\u001b[43m,\u001b[49m\u001b[43m \u001b[49m\u001b[43mmsgs\u001b[49m\u001b[43m)\u001b[49m\n\u001b[0;32m      6\u001b[0m channel \u001b[38;5;241m=\u001b[39m BBS\u001b[38;5;241m.\u001b[39mInsecureChannel()\n\u001b[0;32m      7\u001b[0m false_msgs \u001b[38;5;241m=\u001b[39m [randint(\u001b[38;5;241m0\u001b[39m,\u001b[38;5;241m10000\u001b[39m) \u001b[38;5;28;01mfor\u001b[39;00m _ \u001b[38;5;129;01min\u001b[39;00m \u001b[38;5;28mrange\u001b[39m(num_messages)]\n",
      "\u001b[1;31mTypeError\u001b[0m: User.__init__() takes from 1 to 2 positional arguments but 3 were given"
     ]
    }
   ],
   "source": [
    "num_messages = 2000\n",
    "params = BBS.TrustedPublicAuthority.GGen(max_messages=num_messages)\n",
    "gm = BBS.GM(params=params)\n",
    "msgs = [randint(0,10000) for _ in range(num_messages)]\n",
    "user = BBS.User(gm, msgs)\n",
    "channel = BBS.InsecureChannel()\n",
    "false_msgs = [randint(0,10000) for _ in range(num_messages)]"
   ]
  },
  {
   "cell_type": "code",
   "execution_count": null,
   "metadata": {},
   "outputs": [
    {
     "data": {
      "text/plain": [
       "True"
      ]
     },
     "execution_count": 6,
     "metadata": {},
     "output_type": "execute_result"
    }
   ],
   "source": [
    "BBS.TrustedPublicAuthority.verify(params, gm.public_key, user.sig, [user.secret_key, *msgs])"
   ]
  },
  {
   "cell_type": "code",
   "execution_count": null,
   "metadata": {},
   "outputs": [
    {
     "data": {
      "text/plain": [
       "False"
      ]
     },
     "execution_count": 7,
     "metadata": {},
     "output_type": "execute_result"
    }
   ],
   "source": [
    "disclosed_msgs = {randint(0, num_messages-1) for _ in range(randint(0,num_messages))}\n",
    "channel.partial_disclosure_proof(user, gm, msgs, disclosed_msgs)"
   ]
  },
  {
   "cell_type": "code",
   "execution_count": null,
   "metadata": {},
   "outputs": [],
   "source": [
    "x: str = 2"
   ]
  },
  {
   "cell_type": "code",
   "execution_count": null,
   "metadata": {},
   "outputs": [
    {
     "data": {
      "text/plain": [
       "NoneType"
      ]
     },
     "execution_count": 18,
     "metadata": {},
     "output_type": "execute_result"
    }
   ],
   "source": [
    "def f(x:int) -> str:\n",
    "    ...\n"
   ]
  },
  {
   "cell_type": "code",
   "execution_count": 5,
   "metadata": {},
   "outputs": [],
   "source": [
    "def add(a,b):\n",
    "    return a + b"
   ]
  },
  {
   "cell_type": "code",
   "execution_count": 12,
   "metadata": {},
   "outputs": [
    {
     "data": {
      "text/plain": [
       "dict_items([('hi', 'hello'), ('fi', 'fo')])"
      ]
     },
     "execution_count": 12,
     "metadata": {},
     "output_type": "execute_result"
    }
   ],
   "source": [
    "{\"hi\": \"hello\", \"fi\":\"fo\"}.items()"
   ]
  },
  {
   "cell_type": "code",
   "execution_count": 13,
   "metadata": {},
   "outputs": [],
   "source": [
    "listaa = [\"hello\", \"fo\"]\n",
    "def mymap(who):\n",
    "    return listaa[hash(who) % len(listaa)]"
   ]
  },
  {
   "cell_type": "code",
   "execution_count": 26,
   "metadata": {},
   "outputs": [
    {
     "data": {
      "text/plain": [
       "'hello'"
      ]
     },
     "execution_count": 26,
     "metadata": {},
     "output_type": "execute_result"
    }
   ],
   "source": [
    "mymap((\"hi\"))"
   ]
  },
  {
   "cell_type": "code",
   "execution_count": null,
   "metadata": {},
   "outputs": [],
   "source": []
  }
 ],
 "metadata": {
  "kernelspec": {
   "display_name": "Python 3",
   "language": "python",
   "name": "python3"
  },
  "language_info": {
   "codemirror_mode": {
    "name": "ipython",
    "version": 3
   },
   "file_extension": ".py",
   "mimetype": "text/x-python",
   "name": "python",
   "nbconvert_exporter": "python",
   "pygments_lexer": "ipython3",
   "version": "3.12.3"
  }
 },
 "nbformat": 4,
 "nbformat_minor": 2
}
